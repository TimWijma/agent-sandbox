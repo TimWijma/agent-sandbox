{
 "cells": [
  {
   "cell_type": "code",
   "execution_count": 7,
   "id": "c7c5df21",
   "metadata": {},
   "outputs": [],
   "source": [
    "from llama_cpp import Llama\n",
    "import math\n",
    "import re\n",
    "from asteval import Interpreter"
   ]
  },
  {
   "cell_type": "code",
   "execution_count": 8,
   "id": "62e0efd7",
   "metadata": {},
   "outputs": [
    {
     "name": "stderr",
     "output_type": "stream",
     "text": [
      "llama_context: n_ctx_per_seq (512) < n_ctx_train (2048) -- the full capacity of the model will not be utilized\n"
     ]
    }
   ],
   "source": [
    "llm = Llama.from_pretrained(\n",
    "\trepo_id=\"TheBloke/phi-2-GGUF\",\n",
    "\tfilename=\"phi-2.Q4_K_M.gguf\",\n",
    "    verbose=False,\n",
    ")\n",
    "\n",
    "aeval = Interpreter()"
   ]
  },
  {
   "cell_type": "code",
   "execution_count": null,
   "id": "84294934",
   "metadata": {},
   "outputs": [],
   "source": [
    "def run_llama(user_input: str) -> str:\n",
    "    prompt = f\"\"\"You are an AI assistant that never solves math questions itself.\n",
    "Instead, when a question requires calculation, respond only with:\n",
    "USE_CALCULATOR: <valid Python expression>\n",
    "\n",
    "Use Python's math module for functions like square root, sine, cosine, etc.\n",
    "\n",
    "Examples:\n",
    "Q: What is 3 + 4?\n",
    "A: USE_CALCULATOR: 3 + 4\n",
    "\n",
    "Q: What is the square root of 5?\n",
    "A: USE_CALCULATOR: math.sqrt(5)\n",
    "\n",
    "Q: What is 12 * 12 + 10?\n",
    "A: USE_CALCULATOR: 12 * 12 + 10\n",
    "\n",
    "Q: What is the sine of 30 degrees?\n",
    "A: USE_CALCULATOR: math.sin(math.radians(30))\n",
    "\n",
    "Q: {user_input.strip()}\n",
    "A:\"\"\"\n",
    "\n",
    "    output = llm(\n",
    "        prompt,\n",
    "        max_tokens=100,\n",
    "        echo=False,\n",
    "        temperature=0.25,\n",
    "        stop=[\"\\nQ:\"],\n",
    "    )\n",
    "\n",
    "    return output['choices'][0]['text'].strip() # type: ignore\n",
    "\n",
    "\n",
    "    "
   ]
  },
  {
   "cell_type": "code",
   "execution_count": null,
   "id": "ca22d84a",
   "metadata": {},
   "outputs": [],
   "source": [
    "def eval_expression(expression: str) -> str:\n",
    "    print(f\"Evaluating expression: {expression}\")\n",
    "    result = aeval(expression)\n",
    "\n",
    "    if aeval.error:\n",
    "        print(f\"Error evaluating expression: {aeval.error}\")\n",
    "        return f\"Error: {aeval.error}\"\n",
    "    \n",
    "    return result\n",
    "\n",
    "def parse_response(response):\n",
    "    print(f\"Raw response: {response}\")\n",
    "    match = re.match(r\"USE_CALCULATOR:\\s*(.+)\", response)\n",
    "    if match:\n",
    "        expression = match.group(1)\n",
    "        return f\"Result: {eval_expression(expression)}\"\n",
    "    return response\n"
   ]
  },
  {
   "cell_type": "code",
   "execution_count": 11,
   "id": "17eef989",
   "metadata": {},
   "outputs": [
    {
     "name": "stdout",
     "output_type": "stream",
     "text": [
      "Raw response: USE_CALCULATOR:\n",
      "USE_CALCULATOR:\n"
     ]
    }
   ],
   "source": [
    "result = run_llama(\"what is 15 times 34554 divided by 27\")\n",
    "\n",
    "print(parse_response(result))"
   ]
  },
  {
   "cell_type": "code",
   "execution_count": null,
   "id": "f248fa74",
   "metadata": {},
   "outputs": [],
   "source": []
  }
 ],
 "metadata": {
  "kernelspec": {
   "display_name": "Python 3",
   "language": "python",
   "name": "python3"
  },
  "language_info": {
   "codemirror_mode": {
    "name": "ipython",
    "version": 3
   },
   "file_extension": ".py",
   "mimetype": "text/x-python",
   "name": "python",
   "nbconvert_exporter": "python",
   "pygments_lexer": "ipython3",
   "version": "3.8.10"
  }
 },
 "nbformat": 4,
 "nbformat_minor": 5
}
