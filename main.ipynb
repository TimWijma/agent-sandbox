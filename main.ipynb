{
 "cells": [
  {
   "cell_type": "code",
   "execution_count": 89,
   "id": "c7c5df21",
   "metadata": {},
   "outputs": [],
   "source": [
    "from llama_cpp import Llama\n",
    "import re\n",
    "from asteval import Interpreter\n",
    "import math"
   ]
  },
  {
   "cell_type": "code",
   "execution_count": 90,
   "id": "62e0efd7",
   "metadata": {},
   "outputs": [
    {
     "name": "stderr",
     "output_type": "stream",
     "text": [
      "llama_context: n_ctx_per_seq (512) < n_ctx_train (32768) -- the full capacity of the model will not be utilized\n"
     ]
    }
   ],
   "source": [
    "llm = Llama.from_pretrained(\n",
    "\trepo_id=\"Qwen/Qwen1.5-1.8B-Chat-GGUF\",\n",
    "\tfilename=\"qwen1_5-1_8b-chat-q4_k_m.gguf\",\n",
    "    verbose=False,\n",
    ")\n",
    "     \n",
    "aeval = Interpreter()\n",
    "aeval.symtable['math'] = math"
   ]
  },
  {
   "cell_type": "code",
   "execution_count": 95,
   "id": "84294934",
   "metadata": {},
   "outputs": [],
   "source": [
    "def run_llama(user_input: str) -> str:\n",
    "    system_message = {\n",
    "        \"role\": \"system\",\n",
    "        \"content\": (\n",
    "            \"You are a helpful AI assistant.\\n\"\n",
    "            \"When a question requires calculation, DO NOT solve it yourself or show any steps.\\n\"\n",
    "            \"Respond ONLY with this exact format:\\n\"\n",
    "            \"USE_CALCULATOR: <valid Python expression>\\n\\n\"\n",
    "            \"Do NOT write anything else, no explanations, no intermediate steps, no equal signs.\\n\"\n",
    "            \"Use Python's math module for math functions like sqrt, sin, cos, radians, etc. ONLY WHEN NECESSARY.\\n\" \n",
    "            \"For regular arithmatic use Python's built-in operators like +, -, *, /, //, %, **.\\n\\n\"\n",
    "            \"For non-math questions, answer normally.\\n\\n\"\n",
    "            \"Examples:\\n\"\n",
    "            \"Q: What is 3 + 4?\\n\"\n",
    "            \"A: USE_CALCULATOR: 3 + 4\\n\\n\"\n",
    "            \"Q: What is the capital of France?\\n\"\n",
    "            \"A: The capital of France is Paris.\\n\\n\"\n",
    "            \"Q: What is the sine of 30 degrees?\\n\"\n",
    "            \"A: USE_CALCULATOR: math.sin(math.radians(30))\\n\"\n",
    "            \"Q: What is 15 times 34554 divided by 27?\\n\"\n",
    "            \"A: USE_CALCULATOR: 15 * 34554 / 27\\n\"\n",
    "            \"Do not try to solve the math problems yourself, just return the expression.\\n\"\n",
    "        )\n",
    "    }\n",
    "\n",
    "    user_message = {\n",
    "        \"role\": \"user\",\n",
    "        \"content\": f\"Q: {user_input.strip()}\\nA:\"\n",
    "    }\n",
    "\n",
    "    messages = [system_message, user_message]\n",
    "\n",
    "    response = llm.create_chat_completion(\n",
    "        messages=messages,\n",
    "        max_tokens=100,\n",
    "        temperature=0.0,\n",
    "    )\n",
    "\n",
    "    raw_text = response['choices'][0]['message']['content']\n",
    "\n",
    "    return raw_text.strip()"
   ]
  },
  {
   "cell_type": "code",
   "execution_count": 96,
   "id": "ca22d84a",
   "metadata": {},
   "outputs": [],
   "source": [
    "def eval_expression(expression: str) -> str:\n",
    "    print(f\"Evaluating expression: {expression}\")\n",
    "    print(\"-\" * 20)\n",
    "    result = aeval(expression)\n",
    "\n",
    "    if aeval.error:\n",
    "        print(f\"Error evaluating expression: {aeval.error}\")\n",
    "        print(\"-\" * 20)\n",
    "        return f\"Error: {aeval.error}\"\n",
    "    \n",
    "    return result\n",
    "\n",
    "def parse_response(response):\n",
    "    print(f\"Raw response: {response}\")\n",
    "    print(\"-\" * 20)\n",
    "    match = re.match(r\"USE_CALCULATOR:\\s*(.+)\", response)\n",
    "    if match:\n",
    "        expression = match.group(1)\n",
    "        return f\"Result: {eval_expression(expression)}\"\n",
    "    return response\n"
   ]
  },
  {
   "cell_type": "code",
   "execution_count": 98,
   "id": "17eef989",
   "metadata": {},
   "outputs": [
    {
     "name": "stdout",
     "output_type": "stream",
     "text": [
      "Raw response: USE_CALCULATOR: math.sin(45) * math.pow(1234.56, 7.89) + math.log2(256) - math.sqrt(1024) + 5 ** (4/2) / 2 * math.factorial(4)\n",
      "Note: The expression includes several mathematical operations that involve trigonometric functions, logarithms, and factorials. Here's a breakdown of the calculations:\n",
      "\n",
      "1. The\n",
      "--------------------\n",
      "Evaluating expression: math.sin(45) * math.pow(1234.56, 7.89) + math.log2(256) - math.sqrt(1024) + 5 ** (4/2) / 2 * math.factorial(4)\n",
      "--------------------\n",
      "Result: 2.0985126590906684e+24\n"
     ]
    }
   ],
   "source": [
    "result = run_llama(\"What is the sine of 45 degrees multiplied by 1234.56 divided by 7.89 plus the logarithm base 2 of 256 minus the square root of 1024 plus 5 cubed divided by 2 times the factorial of 4?\")\n",
    "# result = run_llama(\"what is the capital of France\")\n",
    "\n",
    "print(parse_response(result))"
   ]
  }
 ],
 "metadata": {
  "kernelspec": {
   "display_name": "Python 3",
   "language": "python",
   "name": "python3"
  },
  "language_info": {
   "codemirror_mode": {
    "name": "ipython",
    "version": 3
   },
   "file_extension": ".py",
   "mimetype": "text/x-python",
   "name": "python",
   "nbconvert_exporter": "python",
   "pygments_lexer": "ipython3",
   "version": "3.8.5"
  }
 },
 "nbformat": 4,
 "nbformat_minor": 5
}
