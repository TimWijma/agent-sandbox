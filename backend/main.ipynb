{
 "cells": [
  {
   "cell_type": "code",
   "execution_count": null,
   "id": "c7c5df21",
   "metadata": {},
   "outputs": [],
   "source": [
    "import re"
   ]
  },
  {
   "cell_type": "code",
   "execution_count": null,
   "id": "84294934",
   "metadata": {},
   "outputs": [],
   "source": [
    "def send_message(user_input: str) -> str:\n",
    "    user_message = user_input.strip()\n",
    "\n",
    "    response = gemini_client.models.generate_content(\n",
    "        model=\"gemini-2.0-flash\",\n",
    "        config=config,\n",
    "        contents=user_message,\n",
    "    )\n",
    "\n",
    "    print(response)\n",
    "\n",
    "    return response.text"
   ]
  },
  {
   "cell_type": "code",
   "execution_count": null,
   "id": "ca22d84a",
   "metadata": {},
   "outputs": [],
   "source": [
    "def parse_response(response):\n",
    "    print(f\"Raw response: {response}\")\n",
    "    print(\"-\" * 20)\n",
    "    match = re.match(r\"USE_CALCULATOR:\\s*(.+)\", response)\n",
    "    if match:\n",
    "        expression = match.group(1)\n",
    "        return f\"Result: {eval_expression(expression)}\"\n",
    "    return response\n"
   ]
  },
  {
   "cell_type": "code",
   "execution_count": 39,
   "id": "17eef989",
   "metadata": {},
   "outputs": [
    {
     "name": "stdout",
     "output_type": "stream",
     "text": [
      "candidates=[Candidate(content=Content(parts=[Part(video_metadata=None, thought=None, inline_data=None, code_execution_result=None, executable_code=None, file_data=None, function_call=None, function_response=None, text='USE_CALCULATOR: 2*x + 3\\n')], role='model'), citation_metadata=None, finish_message=None, token_count=None, finish_reason=<FinishReason.STOP: 'STOP'>, avg_logprobs=-0.002520988193842081, grounding_metadata=None, index=None, logprobs_result=None, safety_ratings=None)] create_time=None response_id=None model_version='gemini-2.0-flash' prompt_feedback=None usage_metadata=GenerateContentResponseUsageMetadata(cache_tokens_details=None, cached_content_token_count=None, candidates_token_count=13, candidates_tokens_details=[ModalityTokenCount(modality=<MediaModality.TEXT: 'TEXT'>, token_count=13)], prompt_token_count=341, prompt_tokens_details=[ModalityTokenCount(modality=<MediaModality.TEXT: 'TEXT'>, token_count=341)], thoughts_token_count=None, tool_use_prompt_token_count=None, tool_use_prompt_tokens_details=None, total_token_count=354, traffic_type=None) automatic_function_calling_history=[] parsed=None\n",
      "Raw response: USE_CALCULATOR: 2*x + 3\n",
      "\n",
      "--------------------\n",
      "Evaluating expression: 2*x + 3\n",
      "--------------------\n",
      "Error evaluating expression: [ExceptionHolder(<class 'NameError'>, name 'x' is not defined)]\n",
      "--------------------\n",
      "Result: Error: [ExceptionHolder(<class 'NameError'>, name 'x' is not defined)]\n"
     ]
    }
   ],
   "source": [
    "result = send_message(\"Find the derivative of x^2 + 3x + 5\")\n",
    "\n",
    "print(parse_response(result))"
   ]
  }
 ],
 "metadata": {
  "kernelspec": {
   "display_name": "venv",
   "language": "python",
   "name": "python3"
  },
  "language_info": {
   "codemirror_mode": {
    "name": "ipython",
    "version": 3
   },
   "file_extension": ".py",
   "mimetype": "text/x-python",
   "name": "python",
   "nbconvert_exporter": "python",
   "pygments_lexer": "ipython3",
   "version": "3.11.0"
  }
 },
 "nbformat": 4,
 "nbformat_minor": 5
}
